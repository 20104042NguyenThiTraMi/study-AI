{
  "nbformat": 4,
  "nbformat_minor": 0,
  "metadata": {
    "colab": {
      "provenance": [],
      "collapsed_sections": [],
      "authorship_tag": "ABX9TyNxXcV4nrOF0ApjSWuAQK/f",
      "include_colab_link": true
    },
    "kernelspec": {
      "name": "python3",
      "display_name": "Python 3"
    },
    "language_info": {
      "name": "python"
    }
  },
  "cells": [
    {
      "cell_type": "markdown",
      "metadata": {
        "id": "view-in-github",
        "colab_type": "text"
      },
      "source": [
        "<a href=\"https://colab.research.google.com/github/20104042NguyenThiTraMi/study-AI/blob/main/1_11_2022.ipynb\" target=\"_parent\"><img src=\"https://colab.research.google.com/assets/colab-badge.svg\" alt=\"Open In Colab\"/></a>"
      ]
    },
    {
      "cell_type": "code",
      "source": [
        "from keras.datasets import mnist\n",
        "import matplotlib.pyplot as plt\n",
        "(x_train,y_train),(x_test,y_test)=mnist.load_data()\n",
        "x_train.shape"
      ],
      "metadata": {
        "colab": {
          "base_uri": "https://localhost:8080/"
        },
        "id": "Y16_z2ucFrBC",
        "outputId": "0c8aeb1a-2ab5-4195-8853-b2f849f94f09"
      },
      "execution_count": null,
      "outputs": [
        {
          "output_type": "execute_result",
          "data": {
            "text/plain": [
              "(60000, 28, 28)"
            ]
          },
          "metadata": {},
          "execution_count": 88
        }
      ]
    },
    {
      "cell_type": "code",
      "source": [
        "y_train.shape"
      ],
      "metadata": {
        "colab": {
          "base_uri": "https://localhost:8080/"
        },
        "id": "WO4xzgAeG1yK",
        "outputId": "64dab4d8-f14f-453d-94e2-5fe017c8635d"
      },
      "execution_count": null,
      "outputs": [
        {
          "output_type": "execute_result",
          "data": {
            "text/plain": [
              "(60000,)"
            ]
          },
          "metadata": {},
          "execution_count": 89
        }
      ]
    },
    {
      "cell_type": "code",
      "source": [
        "from keras.utils import to_categorical\n",
        "y_train = to_categorical(y_train)\n",
        "y_train.shape"
      ],
      "metadata": {
        "colab": {
          "base_uri": "https://localhost:8080/"
        },
        "id": "y2V6XMdmQno8",
        "outputId": "dacbb1ba-3ccc-4f6c-c0be-40b90cc1426b"
      },
      "execution_count": null,
      "outputs": [
        {
          "output_type": "execute_result",
          "data": {
            "text/plain": [
              "(60000, 10)"
            ]
          },
          "metadata": {},
          "execution_count": 90
        }
      ]
    },
    {
      "cell_type": "code",
      "source": [
        "from keras.models import Sequential, Model\n",
        "from keras.layers import Dense, Dropout, Flatten\n",
        "from keras.layers import Conv2D, MaxPooling2D\n",
        "model = Sequential()\n",
        "model.add(Conv2D(32,kernel_size=(3,3),activation = 'relu',input_shape = (28,28,1),padding='same'))"
      ],
      "metadata": {
        "id": "Nn609YSBJpYy"
      },
      "execution_count": null,
      "outputs": []
    },
    {
      "cell_type": "code",
      "source": [
        "from keras.models import Sequential, Model\n",
        "from keras.layers import Dense, Dropout, Flatten\n",
        "from keras.layers import Conv2D, MaxPooling2D"
      ],
      "metadata": {
        "id": "6mRE4kuULzt7"
      },
      "execution_count": null,
      "outputs": []
    },
    {
      "cell_type": "code",
      "source": [
        "from keras.models import Sequential, Model\n",
        "from keras.layers import Dense, Dropout, Flatten\n",
        "from keras.layers import Conv2D, MaxPooling2D\n",
        "model = Sequential()\n",
        "model.add(Conv2D(32,kernel_size=(3,3),activation = 'relu',input_shape = (28,28,1),padding='same'))\n",
        "model.add(MaxPooling2D((2,2),padding='same'))\n",
        "model.add(Conv2D(64,kernel_size=(3,3),activation='relu',padding='same'))\n",
        "model.add(MaxPooling2D((2,2),padding='same'))\n",
        "model.add(Conv2D(128,kernel_size=(3,3),activation='relu',padding='same'))\n",
        "model.add(MaxPooling2D((2,2),padding='same'))\n",
        "model.add(Flatten())\n",
        "model.add(Dense(128,activation='relu'))\n",
        "model.add(Dense(10,activation='softmax'))"
      ],
      "metadata": {
        "id": "3yzxyXinMYAt"
      },
      "execution_count": null,
      "outputs": []
    },
    {
      "cell_type": "code",
      "source": [
        "model.compile(loss='categorical_crossentropy',metrics=['accuracy'],optimizer='adam')"
      ],
      "metadata": {
        "id": "AiyW8YDiObKR"
      },
      "execution_count": null,
      "outputs": []
    },
    {
      "cell_type": "code",
      "source": [
        "history = model.fit(x_train, y_train, batch_size = 128, epochs =20, verbose = 2)"
      ],
      "metadata": {
        "colab": {
          "base_uri": "https://localhost:8080/"
        },
        "id": "cpbh1NDZPtw8",
        "outputId": "e75d7319-1a52-4fa7-8ab2-dfb4e14c602d"
      },
      "execution_count": null,
      "outputs": [
        {
          "output_type": "stream",
          "name": "stdout",
          "text": [
            "Epoch 1/20\n",
            "469/469 - 93s - loss: 0.4797 - accuracy: 0.9256 - 93s/epoch - 199ms/step\n",
            "Epoch 2/20\n",
            "469/469 - 93s - loss: 0.0482 - accuracy: 0.9851 - 93s/epoch - 198ms/step\n",
            "Epoch 3/20\n",
            "469/469 - 92s - loss: 0.0332 - accuracy: 0.9889 - 92s/epoch - 195ms/step\n",
            "Epoch 4/20\n",
            "469/469 - 91s - loss: 0.0257 - accuracy: 0.9916 - 91s/epoch - 195ms/step\n",
            "Epoch 5/20\n",
            "469/469 - 93s - loss: 0.0225 - accuracy: 0.9926 - 93s/epoch - 198ms/step\n",
            "Epoch 6/20\n",
            "469/469 - 92s - loss: 0.0172 - accuracy: 0.9943 - 92s/epoch - 196ms/step\n",
            "Epoch 7/20\n",
            "469/469 - 96s - loss: 0.0188 - accuracy: 0.9938 - 96s/epoch - 205ms/step\n",
            "Epoch 8/20\n",
            "469/469 - 92s - loss: 0.0184 - accuracy: 0.9942 - 92s/epoch - 196ms/step\n",
            "Epoch 9/20\n",
            "469/469 - 93s - loss: 0.0166 - accuracy: 0.9947 - 93s/epoch - 198ms/step\n",
            "Epoch 10/20\n",
            "469/469 - 92s - loss: 0.0125 - accuracy: 0.9956 - 92s/epoch - 196ms/step\n",
            "Epoch 11/20\n",
            "469/469 - 92s - loss: 0.0155 - accuracy: 0.9947 - 92s/epoch - 196ms/step\n",
            "Epoch 12/20\n",
            "469/469 - 115s - loss: 0.0154 - accuracy: 0.9951 - 115s/epoch - 245ms/step\n",
            "Epoch 13/20\n",
            "469/469 - 133s - loss: 0.0155 - accuracy: 0.9950 - 133s/epoch - 283ms/step\n",
            "Epoch 14/20\n",
            "469/469 - 129s - loss: 0.0123 - accuracy: 0.9958 - 129s/epoch - 276ms/step\n",
            "Epoch 15/20\n",
            "469/469 - 101s - loss: 0.0115 - accuracy: 0.9963 - 101s/epoch - 216ms/step\n",
            "Epoch 16/20\n",
            "469/469 - 94s - loss: 0.0096 - accuracy: 0.9969 - 94s/epoch - 200ms/step\n",
            "Epoch 17/20\n",
            "469/469 - 93s - loss: 0.0124 - accuracy: 0.9958 - 93s/epoch - 198ms/step\n",
            "Epoch 18/20\n",
            "469/469 - 93s - loss: 0.0123 - accuracy: 0.9962 - 93s/epoch - 199ms/step\n",
            "Epoch 19/20\n",
            "469/469 - 92s - loss: 0.0107 - accuracy: 0.9970 - 92s/epoch - 196ms/step\n",
            "Epoch 20/20\n",
            "469/469 - 93s - loss: 0.0118 - accuracy: 0.9966 - 93s/epoch - 199ms/step\n"
          ]
        }
      ]
    },
    {
      "cell_type": "code",
      "source": [
        "model.save('luu.h5')"
      ],
      "metadata": {
        "id": "pIHy4dcSTzPK"
      },
      "execution_count": null,
      "outputs": []
    },
    {
      "cell_type": "code",
      "source": [
        "\n",
        "from keras.model import load_model\n",
        "model=load_model('luu.h5')"
      ],
      "metadata": {
        "id": "U2UzhYDHT2Je"
      },
      "execution_count": null,
      "outputs": []
    },
    {
      "cell_type": "code",
      "source": [
        "import numpy as np\n",
        "from keras.utils import load_img\n",
        "from keras.utils import img_to_array\n",
        "url='/content/số 1.png'\n",
        "img = load_img(url,target_size=(28,28,1))\n",
        "plt.imshow(img)\n"
      ],
      "metadata": {
        "colab": {
          "base_uri": "https://localhost:8080/",
          "height": 282
        },
        "id": "36IGtPVOZs6k",
        "outputId": "47674da9-3f75-4dbe-e14a-e12889fc09e3"
      },
      "execution_count": null,
      "outputs": [
        {
          "output_type": "execute_result",
          "data": {
            "text/plain": [
              "<matplotlib.image.AxesImage at 0x7f7909571d90>"
            ]
          },
          "metadata": {},
          "execution_count": 107
        },
        {
          "output_type": "display_data",
          "data": {
            "text/plain": [
              "<Figure size 432x288 with 1 Axes>"
            ],
            "image/png": "[encoded data removed]"
          },
          "metadata": {
            "needs_background": "light"
          }
        }
      ]
    },
    {
      "cell_type": "code",
      "source": [
        "import numpy as np\n",
        "from keras.utils import load_img\n",
        "from keras.utils.image_utils import img_to_array\n",
        "url = '/content/số 1.png'\n",
        "img = load_img(url, target_size = (28,28,1))\n",
        "plt.imshow(img)\n",
        "img = img_to_array(img)\n",
        "img = img.reshape(1, 28*28*3)\n",
        "img = img.astype('float32')\n",
        "img = img/255\n",
        "classname = ['airplane','automobile','bird','car','deer','dog','flog','horse','ship','truck']\n",
        "a = int(np.argmax(model.predict(img), axis = 1))\n",
        "print(\"Day la\",classname[a])"
      ],
      "metadata": {
        "id": "xmocv4-KaMW1"
      },
      "execution_count": null,
      "outputs": []
    },
    {
      "cell_type": "code",
      "source": [
        "metric=model.evaluate(x_test,y_test,verbose=2)\n",
        "print('sai số:',metric[0])\n",
        "print('Độ chính xác',metric[1])"
      ],
      "metadata": {
        "id": "1PZ3eyICVZtW"
      },
      "execution_count": null,
      "outputs": []
    },
    {
      "cell_type": "code",
      "source": [
        "plt.plot(history.history['accuracy'])\n",
        "plt.plot(history.history['loss'])\n",
        "plt.title('Độ chính xác mờ hình')\n",
        "plt.ylabel('Độ chính xác')\n",
        "plt.xlabel('Số lần lọc')\n",
        "plt.legend(['Độ chính xác','sai số'],loc='lower night')"
      ],
      "metadata": {
        "colab": {
          "base_uri": "https://localhost:8080/",
          "height": 576
        },
        "id": "0RgP5rX7V_P3",
        "outputId": "ad2a1fce-47b8-428b-8259-c48550280a38"
      },
      "execution_count": null,
      "outputs": [
        {
          "output_type": "stream",
          "name": "stderr",
          "text": [
            "/usr/local/lib/python3.7/dist-packages/ipykernel_launcher.py:6: MatplotlibDeprecationWarning: Unrecognized location 'lower night'. Falling back on 'best'; valid locations are\n",
            "\tbest\n",
            "\tupper right\n",
            "\tupper left\n",
            "\tlower left\n",
            "\tlower right\n",
            "\tright\n",
            "\tcenter left\n",
            "\tcenter right\n",
            "\tlower center\n",
            "\tupper center\n",
            "\tcenter\n",
            "This will raise an exception in 3.3.\n",
            "  \n"
          ]
        },
        {
          "output_type": "execute_result",
          "data": {
            "text/plain": [
              "<matplotlib.legend.Legend at 0x7f790973d750>"
            ]
          },
          "metadata": {},
          "execution_count": 102
        },
        {
          "output_type": "display_data",
          "data": {
            "text/plain": [
              "<Figure size 432x288 with 1 Axes>"
            ],
            "image/png": "[encoded data removed]"
          },
          "metadata": {
            "needs_background": "light"
          }
        }
      ]
    }
  ]
}